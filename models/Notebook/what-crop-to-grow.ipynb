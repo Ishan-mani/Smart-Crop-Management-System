{
 "cells": [
  {
   "cell_type": "markdown",
   "metadata": {
    "papermill": {
     "duration": 0.035282,
     "end_time": "2022-01-19T05:43:01.444332",
     "exception": false,
     "start_time": "2022-01-19T05:43:01.409050",
     "status": "completed"
    },
    "tags": []
   },
   "source": [
    "# CROP RECOMMENDATION SYSTEM "
   ]
  },
  {
   "cell_type": "markdown",
   "metadata": {
    "papermill": {
     "duration": 0.033175,
     "end_time": "2022-01-19T05:43:01.714821",
     "exception": false,
     "start_time": "2022-01-19T05:43:01.681646",
     "status": "completed"
    },
    "tags": []
   },
   "source": [
    "# Goal \n",
    "**To recommend optimum crops to be cultivated by farmers based on several parameters and help them make an informed decision before cultivation**"
   ]
  },
  {
   "cell_type": "markdown",
   "metadata": {
    "papermill": {
     "duration": 0.033018,
     "end_time": "2022-01-19T05:43:01.781873",
     "exception": false,
     "start_time": "2022-01-19T05:43:01.748855",
     "status": "completed"
    },
    "tags": []
   },
   "source": [
    "# About the data"
   ]
  },
  {
   "cell_type": "markdown",
   "metadata": {
    "papermill": {
     "duration": 0.033223,
     "end_time": "2022-01-19T05:43:01.848566",
     "exception": false,
     "start_time": "2022-01-19T05:43:01.815343",
     "status": "completed"
    },
    "tags": []
   },
   "source": [
    "The data used in this project is made by augmenting and combining various publicly available datasets of India like weather, soil, etc. You can access the dataset [here](https://www.kaggle.com/atharvaingle/crop-recommendation-dataset). This data is relatively simple with very few but useful features unlike the complicated features affecting the yield of the crop.\n",
    "\n",
    "The data have Nitrogen, Phosphorous, Pottasium and pH values of the soil. Also, it also contains the humidity, temperature and rainfall required for a particular crop. "
   ]
  },
  {
   "cell_type": "markdown",
   "metadata": {
    "papermill": {
     "duration": 0.033795,
     "end_time": "2022-01-19T05:43:01.916056",
     "exception": false,
     "start_time": "2022-01-19T05:43:01.882261",
     "status": "completed"
    },
    "tags": []
   },
   "source": [
    "### **So, without further ado, Let's dive in and code ...**"
   ]
  },
  {
   "cell_type": "code",
   "execution_count": 1,
   "metadata": {
    "execution": {
     "iopub.execute_input": "2022-01-19T05:43:01.988303Z",
     "iopub.status.busy": "2022-01-19T05:43:01.987258Z",
     "iopub.status.idle": "2022-01-19T05:43:03.198329Z",
     "shell.execute_reply": "2022-01-19T05:43:03.197591Z"
    },
    "papermill": {
     "duration": 1.249177,
     "end_time": "2022-01-19T05:43:03.198482",
     "exception": false,
     "start_time": "2022-01-19T05:43:01.949305",
     "status": "completed"
    },
    "tags": []
   },
   "outputs": [],
   "source": [
    "# Importing libraries\n",
    "\n",
    "from __future__ import print_function\n",
    "import pandas as pd\n",
    "import numpy as np\n",
    "import matplotlib.pyplot as plt\n",
    "import seaborn as sns\n",
    "from sklearn.metrics import classification_report\n",
    "from sklearn import metrics\n",
    "from sklearn import tree\n",
    "import warnings\n",
    "warnings.filterwarnings('ignore')"
   ]
  },
  {
   "cell_type": "code",
   "execution_count": 2,
   "metadata": {
    "execution": {
     "iopub.execute_input": "2022-01-19T05:43:03.277905Z",
     "iopub.status.busy": "2022-01-19T05:43:03.277230Z",
     "iopub.status.idle": "2022-01-19T05:43:03.295749Z",
     "shell.execute_reply": "2022-01-19T05:43:03.296326Z"
    },
    "papermill": {
     "duration": 0.064077,
     "end_time": "2022-01-19T05:43:03.296513",
     "exception": false,
     "start_time": "2022-01-19T05:43:03.232436",
     "status": "completed"
    },
    "tags": []
   },
   "outputs": [],
   "source": [
    "PATH = '../input/crop-recommendation-dataset/Crop_recommendation.csv'\n",
    "df = pd.read_csv(PATH)"
   ]
  },
  {
   "cell_type": "code",
   "execution_count": 3,
   "metadata": {
    "execution": {
     "iopub.execute_input": "2022-01-19T05:43:03.366922Z",
     "iopub.status.busy": "2022-01-19T05:43:03.366259Z",
     "iopub.status.idle": "2022-01-19T05:43:03.389191Z",
     "shell.execute_reply": "2022-01-19T05:43:03.389821Z"
    },
    "papermill": {
     "duration": 0.059447,
     "end_time": "2022-01-19T05:43:03.389961",
     "exception": false,
     "start_time": "2022-01-19T05:43:03.330514",
     "status": "completed"
    },
    "tags": []
   },
   "outputs": [
    {
     "data": {
      "text/html": [
       "<div>\n",
       "<style scoped>\n",
       "    .dataframe tbody tr th:only-of-type {\n",
       "        vertical-align: middle;\n",
       "    }\n",
       "\n",
       "    .dataframe tbody tr th {\n",
       "        vertical-align: top;\n",
       "    }\n",
       "\n",
       "    .dataframe thead th {\n",
       "        text-align: right;\n",
       "    }\n",
       "</style>\n",
       "<table border=\"1\" class=\"dataframe\">\n",
       "  <thead>\n",
       "    <tr style=\"text-align: right;\">\n",
       "      <th></th>\n",
       "      <th>N</th>\n",
       "      <th>P</th>\n",
       "      <th>K</th>\n",
       "      <th>temperature</th>\n",
       "      <th>humidity</th>\n",
       "      <th>ph</th>\n",
       "      <th>rainfall</th>\n",
       "      <th>label</th>\n",
       "    </tr>\n",
       "  </thead>\n",
       "  <tbody>\n",
       "    <tr>\n",
       "      <th>0</th>\n",
       "      <td>90</td>\n",
       "      <td>42</td>\n",
       "      <td>43</td>\n",
       "      <td>20.879744</td>\n",
       "      <td>82.002744</td>\n",
       "      <td>6.502985</td>\n",
       "      <td>202.935536</td>\n",
       "      <td>rice</td>\n",
       "    </tr>\n",
       "    <tr>\n",
       "      <th>1</th>\n",
       "      <td>85</td>\n",
       "      <td>58</td>\n",
       "      <td>41</td>\n",
       "      <td>21.770462</td>\n",
       "      <td>80.319644</td>\n",
       "      <td>7.038096</td>\n",
       "      <td>226.655537</td>\n",
       "      <td>rice</td>\n",
       "    </tr>\n",
       "    <tr>\n",
       "      <th>2</th>\n",
       "      <td>60</td>\n",
       "      <td>55</td>\n",
       "      <td>44</td>\n",
       "      <td>23.004459</td>\n",
       "      <td>82.320763</td>\n",
       "      <td>7.840207</td>\n",
       "      <td>263.964248</td>\n",
       "      <td>rice</td>\n",
       "    </tr>\n",
       "    <tr>\n",
       "      <th>3</th>\n",
       "      <td>74</td>\n",
       "      <td>35</td>\n",
       "      <td>40</td>\n",
       "      <td>26.491096</td>\n",
       "      <td>80.158363</td>\n",
       "      <td>6.980401</td>\n",
       "      <td>242.864034</td>\n",
       "      <td>rice</td>\n",
       "    </tr>\n",
       "    <tr>\n",
       "      <th>4</th>\n",
       "      <td>78</td>\n",
       "      <td>42</td>\n",
       "      <td>42</td>\n",
       "      <td>20.130175</td>\n",
       "      <td>81.604873</td>\n",
       "      <td>7.628473</td>\n",
       "      <td>262.717340</td>\n",
       "      <td>rice</td>\n",
       "    </tr>\n",
       "  </tbody>\n",
       "</table>\n",
       "</div>"
      ],
      "text/plain": [
       "    N   P   K  temperature   humidity        ph    rainfall label\n",
       "0  90  42  43    20.879744  82.002744  6.502985  202.935536  rice\n",
       "1  85  58  41    21.770462  80.319644  7.038096  226.655537  rice\n",
       "2  60  55  44    23.004459  82.320763  7.840207  263.964248  rice\n",
       "3  74  35  40    26.491096  80.158363  6.980401  242.864034  rice\n",
       "4  78  42  42    20.130175  81.604873  7.628473  262.717340  rice"
      ]
     },
     "execution_count": 3,
     "metadata": {},
     "output_type": "execute_result"
    }
   ],
   "source": [
    "df.head()"
   ]
  },
  {
   "cell_type": "code",
   "execution_count": 4,
   "metadata": {
    "execution": {
     "iopub.execute_input": "2022-01-19T05:43:03.462532Z",
     "iopub.status.busy": "2022-01-19T05:43:03.461867Z",
     "iopub.status.idle": "2022-01-19T05:43:03.473829Z",
     "shell.execute_reply": "2022-01-19T05:43:03.474455Z"
    },
    "papermill": {
     "duration": 0.049557,
     "end_time": "2022-01-19T05:43:03.474596",
     "exception": false,
     "start_time": "2022-01-19T05:43:03.425039",
     "status": "completed"
    },
    "tags": []
   },
   "outputs": [
    {
     "data": {
      "text/html": [
       "<div>\n",
       "<style scoped>\n",
       "    .dataframe tbody tr th:only-of-type {\n",
       "        vertical-align: middle;\n",
       "    }\n",
       "\n",
       "    .dataframe tbody tr th {\n",
       "        vertical-align: top;\n",
       "    }\n",
       "\n",
       "    .dataframe thead th {\n",
       "        text-align: right;\n",
       "    }\n",
       "</style>\n",
       "<table border=\"1\" class=\"dataframe\">\n",
       "  <thead>\n",
       "    <tr style=\"text-align: right;\">\n",
       "      <th></th>\n",
       "      <th>N</th>\n",
       "      <th>P</th>\n",
       "      <th>K</th>\n",
       "      <th>temperature</th>\n",
       "      <th>humidity</th>\n",
       "      <th>ph</th>\n",
       "      <th>rainfall</th>\n",
       "      <th>label</th>\n",
       "    </tr>\n",
       "  </thead>\n",
       "  <tbody>\n",
       "    <tr>\n",
       "      <th>2195</th>\n",
       "      <td>107</td>\n",
       "      <td>34</td>\n",
       "      <td>32</td>\n",
       "      <td>26.774637</td>\n",
       "      <td>66.413269</td>\n",
       "      <td>6.780064</td>\n",
       "      <td>177.774507</td>\n",
       "      <td>coffee</td>\n",
       "    </tr>\n",
       "    <tr>\n",
       "      <th>2196</th>\n",
       "      <td>99</td>\n",
       "      <td>15</td>\n",
       "      <td>27</td>\n",
       "      <td>27.417112</td>\n",
       "      <td>56.636362</td>\n",
       "      <td>6.086922</td>\n",
       "      <td>127.924610</td>\n",
       "      <td>coffee</td>\n",
       "    </tr>\n",
       "    <tr>\n",
       "      <th>2197</th>\n",
       "      <td>118</td>\n",
       "      <td>33</td>\n",
       "      <td>30</td>\n",
       "      <td>24.131797</td>\n",
       "      <td>67.225123</td>\n",
       "      <td>6.362608</td>\n",
       "      <td>173.322839</td>\n",
       "      <td>coffee</td>\n",
       "    </tr>\n",
       "    <tr>\n",
       "      <th>2198</th>\n",
       "      <td>117</td>\n",
       "      <td>32</td>\n",
       "      <td>34</td>\n",
       "      <td>26.272418</td>\n",
       "      <td>52.127394</td>\n",
       "      <td>6.758793</td>\n",
       "      <td>127.175293</td>\n",
       "      <td>coffee</td>\n",
       "    </tr>\n",
       "    <tr>\n",
       "      <th>2199</th>\n",
       "      <td>104</td>\n",
       "      <td>18</td>\n",
       "      <td>30</td>\n",
       "      <td>23.603016</td>\n",
       "      <td>60.396475</td>\n",
       "      <td>6.779833</td>\n",
       "      <td>140.937041</td>\n",
       "      <td>coffee</td>\n",
       "    </tr>\n",
       "  </tbody>\n",
       "</table>\n",
       "</div>"
      ],
      "text/plain": [
       "        N   P   K  temperature   humidity        ph    rainfall   label\n",
       "2195  107  34  32    26.774637  66.413269  6.780064  177.774507  coffee\n",
       "2196   99  15  27    27.417112  56.636362  6.086922  127.924610  coffee\n",
       "2197  118  33  30    24.131797  67.225123  6.362608  173.322839  coffee\n",
       "2198  117  32  34    26.272418  52.127394  6.758793  127.175293  coffee\n",
       "2199  104  18  30    23.603016  60.396475  6.779833  140.937041  coffee"
      ]
     },
     "execution_count": 4,
     "metadata": {},
     "output_type": "execute_result"
    }
   ],
   "source": [
    "df.tail()"
   ]
  },
  {
   "cell_type": "code",
   "execution_count": 5,
   "metadata": {
    "execution": {
     "iopub.execute_input": "2022-01-19T05:43:03.549223Z",
     "iopub.status.busy": "2022-01-19T05:43:03.548570Z",
     "iopub.status.idle": "2022-01-19T05:43:03.551254Z",
     "shell.execute_reply": "2022-01-19T05:43:03.551808Z"
    },
    "papermill": {
     "duration": 0.042772,
     "end_time": "2022-01-19T05:43:03.551959",
     "exception": false,
     "start_time": "2022-01-19T05:43:03.509187",
     "status": "completed"
    },
    "tags": []
   },
   "outputs": [
    {
     "data": {
      "text/plain": [
       "17600"
      ]
     },
     "execution_count": 5,
     "metadata": {},
     "output_type": "execute_result"
    }
   ],
   "source": [
    "df.size"
   ]
  },
  {
   "cell_type": "code",
   "execution_count": 6,
   "metadata": {
    "execution": {
     "iopub.execute_input": "2022-01-19T05:43:03.625424Z",
     "iopub.status.busy": "2022-01-19T05:43:03.624773Z",
     "iopub.status.idle": "2022-01-19T05:43:03.629241Z",
     "shell.execute_reply": "2022-01-19T05:43:03.629747Z"
    },
    "papermill": {
     "duration": 0.042647,
     "end_time": "2022-01-19T05:43:03.629889",
     "exception": false,
     "start_time": "2022-01-19T05:43:03.587242",
     "status": "completed"
    },
    "tags": []
   },
   "outputs": [
    {
     "data": {
      "text/plain": [
       "(2200, 8)"
      ]
     },
     "execution_count": 6,
     "metadata": {},
     "output_type": "execute_result"
    }
   ],
   "source": [
    "df.shape"
   ]
  },
  {
   "cell_type": "code",
   "execution_count": 7,
   "metadata": {
    "execution": {
     "iopub.execute_input": "2022-01-19T05:43:03.706951Z",
     "iopub.status.busy": "2022-01-19T05:43:03.706277Z",
     "iopub.status.idle": "2022-01-19T05:43:03.710946Z",
     "shell.execute_reply": "2022-01-19T05:43:03.711421Z"
    },
    "papermill": {
     "duration": 0.045695,
     "end_time": "2022-01-19T05:43:03.711566",
     "exception": false,
     "start_time": "2022-01-19T05:43:03.665871",
     "status": "completed"
    },
    "tags": []
   },
   "outputs": [
    {
     "data": {
      "text/plain": [
       "Index(['N', 'P', 'K', 'temperature', 'humidity', 'ph', 'rainfall', 'label'], dtype='object')"
      ]
     },
     "execution_count": 7,
     "metadata": {},
     "output_type": "execute_result"
    }
   ],
   "source": [
    "df.columns"
   ]
  },
  {
   "cell_type": "code",
   "execution_count": 8,
   "metadata": {
    "execution": {
     "iopub.execute_input": "2022-01-19T05:43:03.790748Z",
     "iopub.status.busy": "2022-01-19T05:43:03.789984Z",
     "iopub.status.idle": "2022-01-19T05:43:03.793022Z",
     "shell.execute_reply": "2022-01-19T05:43:03.793556Z"
    },
    "papermill": {
     "duration": 0.045836,
     "end_time": "2022-01-19T05:43:03.793698",
     "exception": false,
     "start_time": "2022-01-19T05:43:03.747862",
     "status": "completed"
    },
    "tags": []
   },
   "outputs": [
    {
     "data": {
      "text/plain": [
       "array(['rice', 'maize', 'chickpea', 'kidneybeans', 'pigeonpeas',\n",
       "       'mothbeans', 'mungbean', 'blackgram', 'lentil', 'pomegranate',\n",
       "       'banana', 'mango', 'grapes', 'watermelon', 'muskmelon', 'apple',\n",
       "       'orange', 'papaya', 'coconut', 'cotton', 'jute', 'coffee'],\n",
       "      dtype=object)"
      ]
     },
     "execution_count": 8,
     "metadata": {},
     "output_type": "execute_result"
    }
   ],
   "source": [
    "df['label'].unique()"
   ]
  },
  {
   "cell_type": "code",
   "execution_count": 9,
   "metadata": {
    "execution": {
     "iopub.execute_input": "2022-01-19T05:43:03.885417Z",
     "iopub.status.busy": "2022-01-19T05:43:03.884415Z",
     "iopub.status.idle": "2022-01-19T05:43:03.889950Z",
     "shell.execute_reply": "2022-01-19T05:43:03.891023Z"
    },
    "papermill": {
     "duration": 0.058842,
     "end_time": "2022-01-19T05:43:03.891178",
     "exception": false,
     "start_time": "2022-01-19T05:43:03.832336",
     "status": "completed"
    },
    "tags": []
   },
   "outputs": [
    {
     "data": {
      "text/plain": [
       "N                int64\n",
       "P                int64\n",
       "K                int64\n",
       "temperature    float64\n",
       "humidity       float64\n",
       "ph             float64\n",
       "rainfall       float64\n",
       "label           object\n",
       "dtype: object"
      ]
     },
     "execution_count": 9,
     "metadata": {},
     "output_type": "execute_result"
    }
   ],
   "source": [
    "df.dtypes"
   ]
  },
  {
   "cell_type": "code",
   "execution_count": 10,
   "metadata": {
    "execution": {
     "iopub.execute_input": "2022-01-19T05:43:03.975256Z",
     "iopub.status.busy": "2022-01-19T05:43:03.974231Z",
     "iopub.status.idle": "2022-01-19T05:43:03.980696Z",
     "shell.execute_reply": "2022-01-19T05:43:03.981294Z"
    },
    "papermill": {
     "duration": 0.050705,
     "end_time": "2022-01-19T05:43:03.981448",
     "exception": false,
     "start_time": "2022-01-19T05:43:03.930743",
     "status": "completed"
    },
    "tags": []
   },
   "outputs": [
    {
     "data": {
      "text/plain": [
       "coconut        100\n",
       "lentil         100\n",
       "rice           100\n",
       "cotton         100\n",
       "banana         100\n",
       "watermelon     100\n",
       "grapes         100\n",
       "muskmelon      100\n",
       "blackgram      100\n",
       "coffee         100\n",
       "apple          100\n",
       "orange         100\n",
       "mothbeans      100\n",
       "mango          100\n",
       "chickpea       100\n",
       "kidneybeans    100\n",
       "pigeonpeas     100\n",
       "papaya         100\n",
       "jute           100\n",
       "pomegranate    100\n",
       "mungbean       100\n",
       "maize          100\n",
       "Name: label, dtype: int64"
      ]
     },
     "execution_count": 10,
     "metadata": {},
     "output_type": "execute_result"
    }
   ],
   "source": [
    "df['label'].value_counts()"
   ]
  },
  {
   "cell_type": "code",
   "execution_count": 11,
   "metadata": {
    "execution": {
     "iopub.execute_input": "2022-01-19T05:43:04.072215Z",
     "iopub.status.busy": "2022-01-19T05:43:04.071533Z",
     "iopub.status.idle": "2022-01-19T05:43:04.546770Z",
     "shell.execute_reply": "2022-01-19T05:43:04.547313Z"
    },
    "papermill": {
     "duration": 0.52399,
     "end_time": "2022-01-19T05:43:04.547478",
     "exception": false,
     "start_time": "2022-01-19T05:43:04.023488",
     "status": "completed"
    },
    "tags": []
   },
   "outputs": [
    {
     "data": {
      "text/plain": [
       "<matplotlib.axes._subplots.AxesSubplot at 0x7fa01e5b4f50>"
      ]
     },
     "execution_count": 11,
     "metadata": {},
     "output_type": "execute_result"
    },
    {
     "data": {
      "image/png": "[encoded data removed]",
      "text/plain": [
       "<Figure size 432x288 with 2 Axes>"
      ]
     },
     "metadata": {
      "needs_background": "light"
     },
     "output_type": "display_data"
    }
   ],
   "source": [
    "sns.heatmap(df.corr(),annot=True)"
   ]
  },
  {
   "cell_type": "markdown",
   "metadata": {
    "papermill": {
     "duration": 0.039153,
     "end_time": "2022-01-19T05:43:04.626871",
     "exception": false,
     "start_time": "2022-01-19T05:43:04.587718",
     "status": "completed"
    },
    "tags": []
   },
   "source": [
    "### Seperating features and target label"
   ]
  },
  {
   "cell_type": "code",
   "execution_count": 12,
   "metadata": {
    "execution": {
     "iopub.execute_input": "2022-01-19T05:43:04.711476Z",
     "iopub.status.busy": "2022-01-19T05:43:04.710837Z",
     "iopub.status.idle": "2022-01-19T05:43:04.716667Z",
     "shell.execute_reply": "2022-01-19T05:43:04.717198Z"
    },
    "papermill": {
     "duration": 0.049985,
     "end_time": "2022-01-19T05:43:04.717341",
     "exception": false,
     "start_time": "2022-01-19T05:43:04.667356",
     "status": "completed"
    },
    "tags": []
   },
   "outputs": [],
   "source": [
    "features = df[['N', 'P','K','temperature', 'humidity', 'ph', 'rainfall']]\n",
    "target = df['label']\n",
    "labels = df['label']"
   ]
  },
  {
   "cell_type": "code",
   "execution_count": 13,
   "metadata": {
    "execution": {
     "iopub.execute_input": "2022-01-19T05:43:04.800353Z",
     "iopub.status.busy": "2022-01-19T05:43:04.799714Z",
     "iopub.status.idle": "2022-01-19T05:43:04.803063Z",
     "shell.execute_reply": "2022-01-19T05:43:04.803702Z"
    },
    "papermill": {
     "duration": 0.046447,
     "end_time": "2022-01-19T05:43:04.803839",
     "exception": false,
     "start_time": "2022-01-19T05:43:04.757392",
     "status": "completed"
    },
    "tags": []
   },
   "outputs": [],
   "source": [
    "# Initializing empty lists to append all model's name and corresponding name\n",
    "acc = []\n",
    "model = []"
   ]
  },
  {
   "cell_type": "code",
   "execution_count": 14,
   "metadata": {
    "execution": {
     "iopub.execute_input": "2022-01-19T05:43:04.887640Z",
     "iopub.status.busy": "2022-01-19T05:43:04.887024Z",
     "iopub.status.idle": "2022-01-19T05:43:04.895733Z",
     "shell.execute_reply": "2022-01-19T05:43:04.896261Z"
    },
    "papermill": {
     "duration": 0.0525,
     "end_time": "2022-01-19T05:43:04.896431",
     "exception": false,
     "start_time": "2022-01-19T05:43:04.843931",
     "status": "completed"
    },
    "tags": []
   },
   "outputs": [],
   "source": [
    "# Splitting into train and test data\n",
    "\n",
    "from sklearn.model_selection import train_test_split\n",
    "Xtrain, Xtest, Ytrain, Ytest = train_test_split(features,target,test_size = 0.2,random_state =2)"
   ]
  },
  {
   "cell_type": "markdown",
   "metadata": {
    "papermill": {
     "duration": 0.039474,
     "end_time": "2022-01-19T05:43:04.975940",
     "exception": false,
     "start_time": "2022-01-19T05:43:04.936466",
     "status": "completed"
    },
    "tags": []
   },
   "source": [
    "# Decision Tree"
   ]
  },
  {
   "cell_type": "code",
   "execution_count": 15,
   "metadata": {
    "execution": {
     "iopub.execute_input": "2022-01-19T05:43:05.068239Z",
     "iopub.status.busy": "2022-01-19T05:43:05.067596Z",
     "iopub.status.idle": "2022-01-19T05:43:05.124928Z",
     "shell.execute_reply": "2022-01-19T05:43:05.124305Z"
    },
    "papermill": {
     "duration": 0.107583,
     "end_time": "2022-01-19T05:43:05.125047",
     "exception": false,
     "start_time": "2022-01-19T05:43:05.017464",
     "status": "completed"
    },
    "tags": []
   },
   "outputs": [
    {
     "name": "stdout",
     "output_type": "stream",
     "text": [
      "DecisionTrees's Accuracy is:  90.0\n",
      "              precision    recall  f1-score   support\n",
      "\n",
      "       apple       1.00      1.00      1.00        13\n",
      "      banana       1.00      1.00      1.00        17\n",
      "   blackgram       0.59      1.00      0.74        16\n",
      "    chickpea       1.00      1.00      1.00        21\n",
      "     coconut       0.91      1.00      0.95        21\n",
      "      coffee       1.00      1.00      1.00        22\n",
      "      cotton       1.00      1.00      1.00        20\n",
      "      grapes       1.00      1.00      1.00        18\n",
      "        jute       0.74      0.93      0.83        28\n",
      " kidneybeans       0.00      0.00      0.00        14\n",
      "      lentil       0.68      1.00      0.81        23\n",
      "       maize       1.00      1.00      1.00        21\n",
      "       mango       1.00      1.00      1.00        26\n",
      "   mothbeans       0.00      0.00      0.00        19\n",
      "    mungbean       1.00      1.00      1.00        24\n",
      "   muskmelon       1.00      1.00      1.00        23\n",
      "      orange       1.00      1.00      1.00        29\n",
      "      papaya       1.00      0.84      0.91        19\n",
      "  pigeonpeas       0.62      1.00      0.77        18\n",
      " pomegranate       1.00      1.00      1.00        17\n",
      "        rice       1.00      0.62      0.77        16\n",
      "  watermelon       1.00      1.00      1.00        15\n",
      "\n",
      "    accuracy                           0.90       440\n",
      "   macro avg       0.84      0.88      0.85       440\n",
      "weighted avg       0.86      0.90      0.87       440\n",
      "\n"
     ]
    }
   ],
   "source": [
    "from sklearn.tree import DecisionTreeClassifier\n",
    "\n",
    "DecisionTree = DecisionTreeClassifier(criterion=\"entropy\",random_state=2,max_depth=5)\n",
    "\n",
    "DecisionTree.fit(Xtrain,Ytrain)\n",
    "\n",
    "predicted_values = DecisionTree.predict(Xtest)\n",
    "x = metrics.accuracy_score(Ytest, predicted_values)\n",
    "acc.append(x)\n",
    "model.append('Decision Tree')\n",
    "print(\"DecisionTrees's Accuracy is: \", x*100)\n",
    "\n",
    "print(classification_report(Ytest,predicted_values))"
   ]
  },
  {
   "cell_type": "code",
   "execution_count": 16,
   "metadata": {
    "execution": {
     "iopub.execute_input": "2022-01-19T05:43:05.210871Z",
     "iopub.status.busy": "2022-01-19T05:43:05.210173Z",
     "iopub.status.idle": "2022-01-19T05:43:05.213210Z",
     "shell.execute_reply": "2022-01-19T05:43:05.212618Z"
    },
    "papermill": {
     "duration": 0.047814,
     "end_time": "2022-01-19T05:43:05.213339",
     "exception": false,
     "start_time": "2022-01-19T05:43:05.165525",
     "status": "completed"
    },
    "tags": []
   },
   "outputs": [],
   "source": [
    "from sklearn.model_selection import cross_val_score"
   ]
  },
  {
   "cell_type": "code",
   "execution_count": 17,
   "metadata": {
    "execution": {
     "iopub.execute_input": "2022-01-19T05:43:05.298456Z",
     "iopub.status.busy": "2022-01-19T05:43:05.297795Z",
     "iopub.status.idle": "2022-01-19T05:43:05.456864Z",
     "shell.execute_reply": "2022-01-19T05:43:05.456278Z"
    },
    "papermill": {
     "duration": 0.202782,
     "end_time": "2022-01-19T05:43:05.456995",
     "exception": false,
     "start_time": "2022-01-19T05:43:05.254213",
     "status": "completed"
    },
    "tags": []
   },
   "outputs": [],
   "source": [
    "# Cross validation score (Decision Tree)\n",
    "score = cross_val_score(DecisionTree, features, target,cv=5)"
   ]
  },
  {
   "cell_type": "code",
   "execution_count": 18,
   "metadata": {
    "execution": {
     "iopub.execute_input": "2022-01-19T05:43:05.545867Z",
     "iopub.status.busy": "2022-01-19T05:43:05.545124Z",
     "iopub.status.idle": "2022-01-19T05:43:05.549090Z",
     "shell.execute_reply": "2022-01-19T05:43:05.548565Z"
    },
    "papermill": {
     "duration": 0.049706,
     "end_time": "2022-01-19T05:43:05.549201",
     "exception": false,
     "start_time": "2022-01-19T05:43:05.499495",
     "status": "completed"
    },
    "tags": []
   },
   "outputs": [
    {
     "data": {
      "text/plain": [
       "array([0.93636364, 0.90909091, 0.91818182, 0.87045455, 0.93636364])"
      ]
     },
     "execution_count": 18,
     "metadata": {},
     "output_type": "execute_result"
    }
   ],
   "source": [
    "score"
   ]
  },
  {
   "cell_type": "markdown",
   "metadata": {
    "papermill": {
     "duration": 0.041656,
     "end_time": "2022-01-19T05:43:05.633034",
     "exception": false,
     "start_time": "2022-01-19T05:43:05.591378",
     "status": "completed"
    },
    "tags": []
   },
   "source": [
    "### Saving trained Decision Tree model"
   ]
  },
  {
   "cell_type": "code",
   "execution_count": 19,
   "metadata": {
    "execution": {
     "iopub.execute_input": "2022-01-19T05:43:05.719833Z",
     "iopub.status.busy": "2022-01-19T05:43:05.719107Z",
     "iopub.status.idle": "2022-01-19T05:43:05.724082Z",
     "shell.execute_reply": "2022-01-19T05:43:05.724645Z"
    },
    "papermill": {
     "duration": 0.050537,
     "end_time": "2022-01-19T05:43:05.724796",
     "exception": false,
     "start_time": "2022-01-19T05:43:05.674259",
     "status": "completed"
    },
    "tags": []
   },
   "outputs": [],
   "source": [
    "import pickle\n",
    "# Dump the trained Naive Bayes classifier with Pickle\n",
    "DT_pkl_filename = 'DecisionTree.pkl'\n",
    "# Open the file to save as pkl file\n",
    "DT_Model_pkl = open(DT_pkl_filename, 'wb')\n",
    "pickle.dump(DecisionTree, DT_Model_pkl)\n",
    "# Close the pickle instances\n",
    "DT_Model_pkl.close()"
   ]
  },
  {
   "cell_type": "markdown",
   "metadata": {
    "papermill": {
     "duration": 0.04115,
     "end_time": "2022-01-19T05:43:05.807761",
     "exception": false,
     "start_time": "2022-01-19T05:43:05.766611",
     "status": "completed"
    },
    "tags": []
   },
   "source": [
    "# Guassian Naive Bayes"
   ]
  },
  {
   "cell_type": "code",
   "execution_count": 20,
   "metadata": {
    "execution": {
     "iopub.execute_input": "2022-01-19T05:43:05.917742Z",
     "iopub.status.busy": "2022-01-19T05:43:05.916712Z",
     "iopub.status.idle": "2022-01-19T05:43:05.965350Z",
     "shell.execute_reply": "2022-01-19T05:43:05.966018Z"
    },
    "papermill": {
     "duration": 0.107743,
     "end_time": "2022-01-19T05:43:05.966167",
     "exception": false,
     "start_time": "2022-01-19T05:43:05.858424",
     "status": "completed"
    },
    "tags": []
   },
   "outputs": [
    {
     "name": "stdout",
     "output_type": "stream",
     "text": [
      "Naive Bayes's Accuracy is:  0.990909090909091\n",
      "              precision    recall  f1-score   support\n",
      "\n",
      "       apple       1.00      1.00      1.00        13\n",
      "      banana       1.00      1.00      1.00        17\n",
      "   blackgram       1.00      1.00      1.00        16\n",
      "    chickpea       1.00      1.00      1.00        21\n",
      "     coconut       1.00      1.00      1.00        21\n",
      "      coffee       1.00      1.00      1.00        22\n",
      "      cotton       1.00      1.00      1.00        20\n",
      "      grapes       1.00      1.00      1.00        18\n",
      "        jute       0.88      1.00      0.93        28\n",
      " kidneybeans       1.00      1.00      1.00        14\n",
      "      lentil       1.00      1.00      1.00        23\n",
      "       maize       1.00      1.00      1.00        21\n",
      "       mango       1.00      1.00      1.00        26\n",
      "   mothbeans       1.00      1.00      1.00        19\n",
      "    mungbean       1.00      1.00      1.00        24\n",
      "   muskmelon       1.00      1.00      1.00        23\n",
      "      orange       1.00      1.00      1.00        29\n",
      "      papaya       1.00      1.00      1.00        19\n",
      "  pigeonpeas       1.00      1.00      1.00        18\n",
      " pomegranate       1.00      1.00      1.00        17\n",
      "        rice       1.00      0.75      0.86        16\n",
      "  watermelon       1.00      1.00      1.00        15\n",
      "\n",
      "    accuracy                           0.99       440\n",
      "   macro avg       0.99      0.99      0.99       440\n",
      "weighted avg       0.99      0.99      0.99       440\n",
      "\n"
     ]
    }
   ],
   "source": [
    "from sklearn.naive_bayes import GaussianNB\n",
    "\n",
    "NaiveBayes = GaussianNB()\n",
    "\n",
    "NaiveBayes.fit(Xtrain,Ytrain)\n",
    "\n",
    "predicted_values = NaiveBayes.predict(Xtest)\n",
    "x = metrics.accuracy_score(Ytest, predicted_values)\n",
    "acc.append(x)\n",
    "model.append('Naive Bayes')\n",
    "print(\"Naive Bayes's Accuracy is: \", x)\n",
    "\n",
    "print(classification_report(Ytest,predicted_values))"
   ]
  },
  {
   "cell_type": "code",
   "execution_count": 21,
   "metadata": {
    "execution": {
     "iopub.execute_input": "2022-01-19T05:43:06.057149Z",
     "iopub.status.busy": "2022-01-19T05:43:06.056101Z",
     "iopub.status.idle": "2022-01-19T05:43:06.139853Z",
     "shell.execute_reply": "2022-01-19T05:43:06.140342Z"
    },
    "papermill": {
     "duration": 0.130813,
     "end_time": "2022-01-19T05:43:06.140516",
     "exception": false,
     "start_time": "2022-01-19T05:43:06.009703",
     "status": "completed"
    },
    "tags": []
   },
   "outputs": [
    {
     "data": {
      "text/plain": [
       "array([0.99772727, 0.99545455, 0.99545455, 0.99545455, 0.99090909])"
      ]
     },
     "execution_count": 21,
     "metadata": {},
     "output_type": "execute_result"
    }
   ],
   "source": [
    "# Cross validation score (NaiveBayes)\n",
    "score = cross_val_score(NaiveBayes,features,target,cv=5)\n",
    "score"
   ]
  },
  {
   "cell_type": "markdown",
   "metadata": {
    "papermill": {
     "duration": 0.044216,
     "end_time": "2022-01-19T05:43:06.228561",
     "exception": false,
     "start_time": "2022-01-19T05:43:06.184345",
     "status": "completed"
    },
    "tags": []
   },
   "source": [
    "### Saving trained Guassian Naive Bayes model"
   ]
  },
  {
   "cell_type": "code",
   "execution_count": 22,
   "metadata": {
    "execution": {
     "iopub.execute_input": "2022-01-19T05:43:06.317717Z",
     "iopub.status.busy": "2022-01-19T05:43:06.316731Z",
     "iopub.status.idle": "2022-01-19T05:43:06.322155Z",
     "shell.execute_reply": "2022-01-19T05:43:06.322709Z"
    },
    "papermill": {
     "duration": 0.051779,
     "end_time": "2022-01-19T05:43:06.322857",
     "exception": false,
     "start_time": "2022-01-19T05:43:06.271078",
     "status": "completed"
    },
    "tags": []
   },
   "outputs": [],
   "source": [
    "import pickle\n",
    "# Dump the trained Naive Bayes classifier with Pickle\n",
    "NB_pkl_filename = 'NBClassifier.pkl'\n",
    "# Open the file to save as pkl file\n",
    "NB_Model_pkl = open(NB_pkl_filename, 'wb')\n",
    "pickle.dump(NaiveBayes, NB_Model_pkl)\n",
    "# Close the pickle instances\n",
    "NB_Model_pkl.close()"
   ]
  },
  {
   "cell_type": "markdown",
   "metadata": {
    "papermill": {
     "duration": 0.042554,
     "end_time": "2022-01-19T05:43:06.408062",
     "exception": false,
     "start_time": "2022-01-19T05:43:06.365508",
     "status": "completed"
    },
    "tags": []
   },
   "source": [
    "# Support Vector Machine (SVM)"
   ]
  },
  {
   "cell_type": "code",
   "execution_count": 23,
   "metadata": {
    "execution": {
     "iopub.execute_input": "2022-01-19T05:43:06.502058Z",
     "iopub.status.busy": "2022-01-19T05:43:06.501316Z",
     "iopub.status.idle": "2022-01-19T05:43:06.908550Z",
     "shell.execute_reply": "2022-01-19T05:43:06.907970Z"
    },
    "papermill": {
     "duration": 0.458083,
     "end_time": "2022-01-19T05:43:06.908677",
     "exception": false,
     "start_time": "2022-01-19T05:43:06.450594",
     "status": "completed"
    },
    "tags": []
   },
   "outputs": [
    {
     "name": "stdout",
     "output_type": "stream",
     "text": [
      "SVM's Accuracy is:  0.10681818181818181\n",
      "              precision    recall  f1-score   support\n",
      "\n",
      "       apple       1.00      0.23      0.38        13\n",
      "      banana       1.00      0.24      0.38        17\n",
      "   blackgram       1.00      0.19      0.32        16\n",
      "    chickpea       1.00      0.05      0.09        21\n",
      "     coconut       1.00      0.05      0.09        21\n",
      "      coffee       0.00      0.00      0.00        22\n",
      "      cotton       1.00      0.05      0.10        20\n",
      "      grapes       1.00      0.06      0.11        18\n",
      "        jute       1.00      0.07      0.13        28\n",
      " kidneybeans       0.03      1.00      0.07        14\n",
      "      lentil       0.00      0.00      0.00        23\n",
      "       maize       0.00      0.00      0.00        21\n",
      "       mango       0.00      0.00      0.00        26\n",
      "   mothbeans       0.00      0.00      0.00        19\n",
      "    mungbean       1.00      0.12      0.22        24\n",
      "   muskmelon       1.00      0.30      0.47        23\n",
      "      orange       1.00      0.03      0.07        29\n",
      "      papaya       1.00      0.05      0.10        19\n",
      "  pigeonpeas       0.00      0.00      0.00        18\n",
      " pomegranate       1.00      0.12      0.21        17\n",
      "        rice       0.50      0.06      0.11        16\n",
      "  watermelon       1.00      0.13      0.24        15\n",
      "\n",
      "    accuracy                           0.11       440\n",
      "   macro avg       0.66      0.13      0.14       440\n",
      "weighted avg       0.66      0.11      0.13       440\n",
      "\n"
     ]
    }
   ],
   "source": [
    "from sklearn.svm import SVC\n",
    "\n",
    "SVM = SVC(gamma='auto')\n",
    "\n",
    "SVM.fit(Xtrain,Ytrain)\n",
    "\n",
    "predicted_values = SVM.predict(Xtest)\n",
    "\n",
    "x = metrics.accuracy_score(Ytest, predicted_values)\n",
    "acc.append(x)\n",
    "model.append('SVM')\n",
    "print(\"SVM's Accuracy is: \", x)\n",
    "\n",
    "print(classification_report(Ytest,predicted_values))"
   ]
  },
  {
   "cell_type": "code",
   "execution_count": 24,
   "metadata": {
    "execution": {
     "iopub.execute_input": "2022-01-19T05:43:07.004875Z",
     "iopub.status.busy": "2022-01-19T05:43:07.004229Z",
     "iopub.status.idle": "2022-01-19T05:43:08.802385Z",
     "shell.execute_reply": "2022-01-19T05:43:08.802860Z"
    },
    "papermill": {
     "duration": 1.849917,
     "end_time": "2022-01-19T05:43:08.803004",
     "exception": false,
     "start_time": "2022-01-19T05:43:06.953087",
     "status": "completed"
    },
    "tags": []
   },
   "outputs": [
    {
     "data": {
      "text/plain": [
       "array([0.27727273, 0.28863636, 0.29090909, 0.275     , 0.26818182])"
      ]
     },
     "execution_count": 24,
     "metadata": {},
     "output_type": "execute_result"
    }
   ],
   "source": [
    "# Cross validation score (SVM)\n",
    "score = cross_val_score(SVM,features,target,cv=5)\n",
    "score"
   ]
  },
  {
   "cell_type": "markdown",
   "metadata": {
    "papermill": {
     "duration": 0.044005,
     "end_time": "2022-01-19T05:43:08.902449",
     "exception": false,
     "start_time": "2022-01-19T05:43:08.858444",
     "status": "completed"
    },
    "tags": []
   },
   "source": [
    "# Logistic Regression"
   ]
  },
  {
   "cell_type": "code",
   "execution_count": 25,
   "metadata": {
    "execution": {
     "iopub.execute_input": "2022-01-19T05:43:09.005272Z",
     "iopub.status.busy": "2022-01-19T05:43:09.004280Z",
     "iopub.status.idle": "2022-01-19T05:43:09.440693Z",
     "shell.execute_reply": "2022-01-19T05:43:09.441336Z"
    },
    "papermill": {
     "duration": 0.484795,
     "end_time": "2022-01-19T05:43:09.441513",
     "exception": false,
     "start_time": "2022-01-19T05:43:08.956718",
     "status": "completed"
    },
    "tags": []
   },
   "outputs": [
    {
     "name": "stdout",
     "output_type": "stream",
     "text": [
      "Logistic Regression's Accuracy is:  0.9522727272727273\n",
      "              precision    recall  f1-score   support\n",
      "\n",
      "       apple       1.00      1.00      1.00        13\n",
      "      banana       1.00      1.00      1.00        17\n",
      "   blackgram       0.86      0.75      0.80        16\n",
      "    chickpea       1.00      1.00      1.00        21\n",
      "     coconut       1.00      1.00      1.00        21\n",
      "      coffee       1.00      1.00      1.00        22\n",
      "      cotton       0.86      0.90      0.88        20\n",
      "      grapes       1.00      1.00      1.00        18\n",
      "        jute       0.84      0.93      0.88        28\n",
      " kidneybeans       1.00      1.00      1.00        14\n",
      "      lentil       0.88      1.00      0.94        23\n",
      "       maize       0.90      0.86      0.88        21\n",
      "       mango       0.96      1.00      0.98        26\n",
      "   mothbeans       0.84      0.84      0.84        19\n",
      "    mungbean       1.00      0.96      0.98        24\n",
      "   muskmelon       1.00      1.00      1.00        23\n",
      "      orange       1.00      1.00      1.00        29\n",
      "      papaya       1.00      0.95      0.97        19\n",
      "  pigeonpeas       1.00      1.00      1.00        18\n",
      " pomegranate       1.00      1.00      1.00        17\n",
      "        rice       0.85      0.69      0.76        16\n",
      "  watermelon       1.00      1.00      1.00        15\n",
      "\n",
      "    accuracy                           0.95       440\n",
      "   macro avg       0.95      0.95      0.95       440\n",
      "weighted avg       0.95      0.95      0.95       440\n",
      "\n"
     ]
    }
   ],
   "source": [
    "from sklearn.linear_model import LogisticRegression\n",
    "\n",
    "LogReg = LogisticRegression(random_state=2)\n",
    "\n",
    "LogReg.fit(Xtrain,Ytrain)\n",
    "\n",
    "predicted_values = LogReg.predict(Xtest)\n",
    "\n",
    "x = metrics.accuracy_score(Ytest, predicted_values)\n",
    "acc.append(x)\n",
    "model.append('Logistic Regression')\n",
    "print(\"Logistic Regression's Accuracy is: \", x)\n",
    "\n",
    "print(classification_report(Ytest,predicted_values))"
   ]
  },
  {
   "cell_type": "code",
   "execution_count": 26,
   "metadata": {
    "execution": {
     "iopub.execute_input": "2022-01-19T05:43:09.537194Z",
     "iopub.status.busy": "2022-01-19T05:43:09.536171Z",
     "iopub.status.idle": "2022-01-19T05:43:11.070990Z",
     "shell.execute_reply": "2022-01-19T05:43:11.070473Z"
    },
    "papermill": {
     "duration": 1.584202,
     "end_time": "2022-01-19T05:43:11.071109",
     "exception": false,
     "start_time": "2022-01-19T05:43:09.486907",
     "status": "completed"
    },
    "tags": []
   },
   "outputs": [
    {
     "data": {
      "text/plain": [
       "array([0.95      , 0.96590909, 0.94772727, 0.96818182, 0.94318182])"
      ]
     },
     "execution_count": 26,
     "metadata": {},
     "output_type": "execute_result"
    }
   ],
   "source": [
    "# Cross validation score (Logistic Regression)\n",
    "score = cross_val_score(LogReg,features,target,cv=5)\n",
    "score"
   ]
  },
  {
   "cell_type": "markdown",
   "metadata": {
    "papermill": {
     "duration": 0.044379,
     "end_time": "2022-01-19T05:43:11.160283",
     "exception": false,
     "start_time": "2022-01-19T05:43:11.115904",
     "status": "completed"
    },
    "tags": []
   },
   "source": [
    "### Saving trained Logistic Regression model"
   ]
  },
  {
   "cell_type": "code",
   "execution_count": 27,
   "metadata": {
    "execution": {
     "iopub.execute_input": "2022-01-19T05:43:11.253520Z",
     "iopub.status.busy": "2022-01-19T05:43:11.252519Z",
     "iopub.status.idle": "2022-01-19T05:43:11.258068Z",
     "shell.execute_reply": "2022-01-19T05:43:11.258711Z"
    },
    "papermill": {
     "duration": 0.054002,
     "end_time": "2022-01-19T05:43:11.258869",
     "exception": false,
     "start_time": "2022-01-19T05:43:11.204867",
     "status": "completed"
    },
    "tags": []
   },
   "outputs": [],
   "source": [
    "import pickle\n",
    "# Dump the trained Naive Bayes classifier with Pickle\n",
    "LR_pkl_filename = 'LogisticRegression.pkl'\n",
    "# Open the file to save as pkl file\n",
    "LR_Model_pkl = open(DT_pkl_filename, 'wb')\n",
    "pickle.dump(LogReg, LR_Model_pkl)\n",
    "# Close the pickle instances\n",
    "LR_Model_pkl.close()"
   ]
  },
  {
   "cell_type": "markdown",
   "metadata": {
    "papermill": {
     "duration": 0.044439,
     "end_time": "2022-01-19T05:43:11.347958",
     "exception": false,
     "start_time": "2022-01-19T05:43:11.303519",
     "status": "completed"
    },
    "tags": []
   },
   "source": [
    "# Random Forest"
   ]
  },
  {
   "cell_type": "code",
   "execution_count": 28,
   "metadata": {
    "execution": {
     "iopub.execute_input": "2022-01-19T05:43:11.444242Z",
     "iopub.status.busy": "2022-01-19T05:43:11.439880Z",
     "iopub.status.idle": "2022-01-19T05:43:11.590925Z",
     "shell.execute_reply": "2022-01-19T05:43:11.590151Z"
    },
    "papermill": {
     "duration": 0.198284,
     "end_time": "2022-01-19T05:43:11.591096",
     "exception": false,
     "start_time": "2022-01-19T05:43:11.392812",
     "status": "completed"
    },
    "tags": []
   },
   "outputs": [
    {
     "name": "stdout",
     "output_type": "stream",
     "text": [
      "RF's Accuracy is:  0.990909090909091\n",
      "              precision    recall  f1-score   support\n",
      "\n",
      "       apple       1.00      1.00      1.00        13\n",
      "      banana       1.00      1.00      1.00        17\n",
      "   blackgram       0.94      1.00      0.97        16\n",
      "    chickpea       1.00      1.00      1.00        21\n",
      "     coconut       1.00      1.00      1.00        21\n",
      "      coffee       1.00      1.00      1.00        22\n",
      "      cotton       1.00      1.00      1.00        20\n",
      "      grapes       1.00      1.00      1.00        18\n",
      "        jute       0.90      1.00      0.95        28\n",
      " kidneybeans       1.00      1.00      1.00        14\n",
      "      lentil       1.00      1.00      1.00        23\n",
      "       maize       1.00      1.00      1.00        21\n",
      "       mango       1.00      1.00      1.00        26\n",
      "   mothbeans       1.00      0.95      0.97        19\n",
      "    mungbean       1.00      1.00      1.00        24\n",
      "   muskmelon       1.00      1.00      1.00        23\n",
      "      orange       1.00      1.00      1.00        29\n",
      "      papaya       1.00      1.00      1.00        19\n",
      "  pigeonpeas       1.00      1.00      1.00        18\n",
      " pomegranate       1.00      1.00      1.00        17\n",
      "        rice       1.00      0.81      0.90        16\n",
      "  watermelon       1.00      1.00      1.00        15\n",
      "\n",
      "    accuracy                           0.99       440\n",
      "   macro avg       0.99      0.99      0.99       440\n",
      "weighted avg       0.99      0.99      0.99       440\n",
      "\n"
     ]
    }
   ],
   "source": [
    "from sklearn.ensemble import RandomForestClassifier\n",
    "\n",
    "RF = RandomForestClassifier(n_estimators=20, random_state=0)\n",
    "RF.fit(Xtrain,Ytrain)\n",
    "\n",
    "predicted_values = RF.predict(Xtest)\n",
    "\n",
    "x = metrics.accuracy_score(Ytest, predicted_values)\n",
    "acc.append(x)\n",
    "model.append('RF')\n",
    "print(\"RF's Accuracy is: \", x)\n",
    "\n",
    "print(classification_report(Ytest,predicted_values))"
   ]
  },
  {
   "cell_type": "code",
   "execution_count": 29,
   "metadata": {
    "execution": {
     "iopub.execute_input": "2022-01-19T05:43:11.690705Z",
     "iopub.status.busy": "2022-01-19T05:43:11.689929Z",
     "iopub.status.idle": "2022-01-19T05:43:12.181176Z",
     "shell.execute_reply": "2022-01-19T05:43:12.180538Z"
    },
    "papermill": {
     "duration": 0.541347,
     "end_time": "2022-01-19T05:43:12.181295",
     "exception": false,
     "start_time": "2022-01-19T05:43:11.639948",
     "status": "completed"
    },
    "tags": []
   },
   "outputs": [
    {
     "data": {
      "text/plain": [
       "array([0.99772727, 0.99545455, 0.99772727, 0.99318182, 0.98863636])"
      ]
     },
     "execution_count": 29,
     "metadata": {},
     "output_type": "execute_result"
    }
   ],
   "source": [
    "# Cross validation score (Random Forest)\n",
    "score = cross_val_score(RF,features,target,cv=5)\n",
    "score"
   ]
  },
  {
   "cell_type": "markdown",
   "metadata": {
    "papermill": {
     "duration": 0.04668,
     "end_time": "2022-01-19T05:43:12.273949",
     "exception": false,
     "start_time": "2022-01-19T05:43:12.227269",
     "status": "completed"
    },
    "tags": []
   },
   "source": [
    "### Saving trained Random Forest model"
   ]
  },
  {
   "cell_type": "code",
   "execution_count": 30,
   "metadata": {
    "execution": {
     "iopub.execute_input": "2022-01-19T05:43:12.375241Z",
     "iopub.status.busy": "2022-01-19T05:43:12.374576Z",
     "iopub.status.idle": "2022-01-19T05:43:12.378494Z",
     "shell.execute_reply": "2022-01-19T05:43:12.377941Z"
    },
    "papermill": {
     "duration": 0.057739,
     "end_time": "2022-01-19T05:43:12.378609",
     "exception": false,
     "start_time": "2022-01-19T05:43:12.320870",
     "status": "completed"
    },
    "tags": []
   },
   "outputs": [],
   "source": [
    "import pickle\n",
    "# Dump the trained Naive Bayes classifier with Pickle\n",
    "RF_pkl_filename = 'RandomForest.pkl'\n",
    "# Open the file to save as pkl file\n",
    "RF_Model_pkl = open(RF_pkl_filename, 'wb')\n",
    "pickle.dump(RF, RF_Model_pkl)\n",
    "# Close the pickle instances\n",
    "RF_Model_pkl.close()"
   ]
  },
  {
   "cell_type": "markdown",
   "metadata": {
    "papermill": {
     "duration": 0.046181,
     "end_time": "2022-01-19T05:43:12.470853",
     "exception": false,
     "start_time": "2022-01-19T05:43:12.424672",
     "status": "completed"
    },
    "tags": []
   },
   "source": [
    "# XGBoost"
   ]
  },
  {
   "cell_type": "code",
   "execution_count": 31,
   "metadata": {
    "execution": {
     "iopub.execute_input": "2022-01-19T05:43:12.569952Z",
     "iopub.status.busy": "2022-01-19T05:43:12.568949Z",
     "iopub.status.idle": "2022-01-19T05:43:14.054441Z",
     "shell.execute_reply": "2022-01-19T05:43:14.056219Z"
    },
    "papermill": {
     "duration": 1.539877,
     "end_time": "2022-01-19T05:43:14.056679",
     "exception": false,
     "start_time": "2022-01-19T05:43:12.516802",
     "status": "completed"
    },
    "scrolled": true,
    "tags": []
   },
   "outputs": [
    {
     "name": "stdout",
     "output_type": "stream",
     "text": [
      "XGBoost's Accuracy is:  0.9931818181818182\n",
      "              precision    recall  f1-score   support\n",
      "\n",
      "       apple       1.00      1.00      1.00        13\n",
      "      banana       1.00      1.00      1.00        17\n",
      "   blackgram       1.00      1.00      1.00        16\n",
      "    chickpea       1.00      1.00      1.00        21\n",
      "     coconut       1.00      1.00      1.00        21\n",
      "      coffee       0.96      1.00      0.98        22\n",
      "      cotton       1.00      1.00      1.00        20\n",
      "      grapes       1.00      1.00      1.00        18\n",
      "        jute       1.00      0.93      0.96        28\n",
      " kidneybeans       1.00      1.00      1.00        14\n",
      "      lentil       0.96      1.00      0.98        23\n",
      "       maize       1.00      1.00      1.00        21\n",
      "       mango       1.00      1.00      1.00        26\n",
      "   mothbeans       1.00      0.95      0.97        19\n",
      "    mungbean       1.00      1.00      1.00        24\n",
      "   muskmelon       1.00      1.00      1.00        23\n",
      "      orange       1.00      1.00      1.00        29\n",
      "      papaya       1.00      1.00      1.00        19\n",
      "  pigeonpeas       1.00      1.00      1.00        18\n",
      " pomegranate       1.00      1.00      1.00        17\n",
      "        rice       0.94      1.00      0.97        16\n",
      "  watermelon       1.00      1.00      1.00        15\n",
      "\n",
      "    accuracy                           0.99       440\n",
      "   macro avg       0.99      0.99      0.99       440\n",
      "weighted avg       0.99      0.99      0.99       440\n",
      "\n"
     ]
    }
   ],
   "source": [
    "import xgboost as xgb\n",
    "XB = xgb.XGBClassifier()\n",
    "XB.fit(Xtrain,Ytrain)\n",
    "\n",
    "predicted_values = XB.predict(Xtest)\n",
    "\n",
    "x = metrics.accuracy_score(Ytest, predicted_values)\n",
    "acc.append(x)\n",
    "model.append('XGBoost')\n",
    "print(\"XGBoost's Accuracy is: \", x)\n",
    "\n",
    "print(classification_report(Ytest,predicted_values))"
   ]
  },
  {
   "cell_type": "code",
   "execution_count": 32,
   "metadata": {
    "execution": {
     "iopub.execute_input": "2022-01-19T05:43:14.190819Z",
     "iopub.status.busy": "2022-01-19T05:43:14.189997Z",
     "iopub.status.idle": "2022-01-19T05:43:16.681042Z",
     "shell.execute_reply": "2022-01-19T05:43:16.682229Z"
    },
    "papermill": {
     "duration": 2.564589,
     "end_time": "2022-01-19T05:43:16.682446",
     "exception": false,
     "start_time": "2022-01-19T05:43:14.117857",
     "status": "completed"
    },
    "tags": []
   },
   "outputs": [
    {
     "data": {
      "text/plain": [
       "array([0.99318182, 0.99318182, 0.99318182, 0.99090909, 0.99090909])"
      ]
     },
     "execution_count": 32,
     "metadata": {},
     "output_type": "execute_result"
    }
   ],
   "source": [
    "# Cross validation score (XGBoost)\n",
    "score = cross_val_score(XB,features,target,cv=5)\n",
    "score"
   ]
  },
  {
   "cell_type": "markdown",
   "metadata": {
    "papermill": {
     "duration": 0.060724,
     "end_time": "2022-01-19T05:43:16.806367",
     "exception": false,
     "start_time": "2022-01-19T05:43:16.745643",
     "status": "completed"
    },
    "tags": []
   },
   "source": [
    "### Saving trained XGBoost model"
   ]
  },
  {
   "cell_type": "code",
   "execution_count": 33,
   "metadata": {
    "execution": {
     "iopub.execute_input": "2022-01-19T05:43:16.947032Z",
     "iopub.status.busy": "2022-01-19T05:43:16.945974Z",
     "iopub.status.idle": "2022-01-19T05:43:16.950278Z",
     "shell.execute_reply": "2022-01-19T05:43:16.950835Z"
    },
    "papermill": {
     "duration": 0.072817,
     "end_time": "2022-01-19T05:43:16.950999",
     "exception": false,
     "start_time": "2022-01-19T05:43:16.878182",
     "status": "completed"
    },
    "tags": []
   },
   "outputs": [],
   "source": [
    "import pickle\n",
    "# Dump the trained Naive Bayes classifier with Pickle\n",
    "XB_pkl_filename = 'XGBoost.pkl'\n",
    "# Open the file to save as pkl file\n",
    "XB_Model_pkl = open(XB_pkl_filename, 'wb')\n",
    "pickle.dump(XB, XB_Model_pkl)\n",
    "# Close the pickle instances\n",
    "XB_Model_pkl.close()"
   ]
  },
  {
   "cell_type": "markdown",
   "metadata": {
    "papermill": {
     "duration": 0.047575,
     "end_time": "2022-01-19T05:43:17.046191",
     "exception": false,
     "start_time": "2022-01-19T05:43:16.998616",
     "status": "completed"
    },
    "tags": []
   },
   "source": [
    "## Accuracy Comparison"
   ]
  },
  {
   "cell_type": "code",
   "execution_count": 34,
   "metadata": {
    "execution": {
     "iopub.execute_input": "2022-01-19T05:43:17.145965Z",
     "iopub.status.busy": "2022-01-19T05:43:17.145243Z",
     "iopub.status.idle": "2022-01-19T05:43:17.313434Z",
     "shell.execute_reply": "2022-01-19T05:43:17.313923Z"
    },
    "papermill": {
     "duration": 0.219581,
     "end_time": "2022-01-19T05:43:17.314085",
     "exception": false,
     "start_time": "2022-01-19T05:43:17.094504",
     "status": "completed"
    },
    "tags": []
   },
   "outputs": [
    {
     "data": {
      "text/plain": [
       "<matplotlib.axes._subplots.AxesSubplot at 0x7fa01e289a90>"
      ]
     },
     "execution_count": 34,
     "metadata": {},
     "output_type": "execute_result"
    },
    {
     "data": {
      "image/png": "[encoded data removed]",
      "text/plain": [
       "<Figure size 1000x500 with 1 Axes>"
      ]
     },
     "metadata": {
      "needs_background": "light"
     },
     "output_type": "display_data"
    }
   ],
   "source": [
    "plt.figure(figsize=[10,5],dpi = 100)\n",
    "plt.title('Accuracy Comparison')\n",
    "plt.xlabel('Accuracy')\n",
    "plt.ylabel('Algorithm')\n",
    "sns.barplot(x = acc,y = model,palette='dark')"
   ]
  },
  {
   "cell_type": "code",
   "execution_count": 35,
   "metadata": {
    "execution": {
     "iopub.execute_input": "2022-01-19T05:43:17.420951Z",
     "iopub.status.busy": "2022-01-19T05:43:17.420254Z",
     "iopub.status.idle": "2022-01-19T05:43:17.423129Z",
     "shell.execute_reply": "2022-01-19T05:43:17.423801Z"
    },
    "papermill": {
     "duration": 0.059955,
     "end_time": "2022-01-19T05:43:17.423964",
     "exception": false,
     "start_time": "2022-01-19T05:43:17.364009",
     "status": "completed"
    },
    "tags": []
   },
   "outputs": [
    {
     "name": "stdout",
     "output_type": "stream",
     "text": [
      "Decision Tree --> 0.9\n",
      "Naive Bayes --> 0.990909090909091\n",
      "SVM --> 0.10681818181818181\n",
      "Logistic Regression --> 0.9522727272727273\n",
      "RF --> 0.990909090909091\n",
      "XGBoost --> 0.9931818181818182\n"
     ]
    }
   ],
   "source": [
    "accuracy_models = dict(zip(model, acc))\n",
    "for k, v in accuracy_models.items():\n",
    "    print (k, '-->', v)"
   ]
  },
  {
   "cell_type": "markdown",
   "metadata": {
    "papermill": {
     "duration": 0.048751,
     "end_time": "2022-01-19T05:43:17.522918",
     "exception": false,
     "start_time": "2022-01-19T05:43:17.474167",
     "status": "completed"
    },
    "tags": []
   },
   "source": [
    "## Making a prediction"
   ]
  },
  {
   "cell_type": "code",
   "execution_count": 36,
   "metadata": {
    "execution": {
     "iopub.execute_input": "2022-01-19T05:43:17.624603Z",
     "iopub.status.busy": "2022-01-19T05:43:17.623879Z",
     "iopub.status.idle": "2022-01-19T05:43:17.632695Z",
     "shell.execute_reply": "2022-01-19T05:43:17.633186Z"
    },
    "papermill": {
     "duration": 0.061397,
     "end_time": "2022-01-19T05:43:17.633348",
     "exception": false,
     "start_time": "2022-01-19T05:43:17.571951",
     "status": "completed"
    },
    "tags": []
   },
   "outputs": [
    {
     "name": "stdout",
     "output_type": "stream",
     "text": [
      "['coffee']\n"
     ]
    }
   ],
   "source": [
    "data = np.array([[104,18, 30, 23.603016, 60.3, 6.7, 140.91]])\n",
    "prediction = RF.predict(data)\n",
    "print(prediction)"
   ]
  },
  {
   "cell_type": "code",
   "execution_count": 37,
   "metadata": {
    "execution": {
     "iopub.execute_input": "2022-01-19T05:43:17.736854Z",
     "iopub.status.busy": "2022-01-19T05:43:17.736095Z",
     "iopub.status.idle": "2022-01-19T05:43:17.746276Z",
     "shell.execute_reply": "2022-01-19T05:43:17.746821Z"
    },
    "papermill": {
     "duration": 0.064038,
     "end_time": "2022-01-19T05:43:17.746979",
     "exception": false,
     "start_time": "2022-01-19T05:43:17.682941",
     "status": "completed"
    },
    "tags": []
   },
   "outputs": [
    {
     "name": "stdout",
     "output_type": "stream",
     "text": [
      "['jute']\n"
     ]
    }
   ],
   "source": [
    "data = np.array([[83, 45, 60, 28, 70.3, 7.0, 150.9]])\n",
    "prediction = RF.predict(data)\n",
    "print(prediction)"
   ]
  }
 ],
 "metadata": {
  "kernelspec": {
   "display_name": "Python 3",
   "language": "python",
   "name": "python3"
  },
  "language_info": {
   "codemirror_mode": {
    "name": "ipython",
    "version": 3
   },
   "file_extension": ".py",
   "mimetype": "text/x-python",
   "name": "python",
   "nbconvert_exporter": "python",
   "pygments_lexer": "ipython3",
   "version": "3.7.6"
  },
  "papermill": {
   "duration": 21.35152,
   "end_time": "2022-01-19T05:43:18.107695",
   "environment_variables": {},
   "exception": null,
   "input_path": "__notebook__.ipynb",
   "output_path": "__notebook__.ipynb",
   "parameters": {},
   "start_time": "2022-01-19T05:42:56.756175",
   "version": "2.1.0"
  }
 },
 "nbformat": 4,
 "nbformat_minor": 4
}
